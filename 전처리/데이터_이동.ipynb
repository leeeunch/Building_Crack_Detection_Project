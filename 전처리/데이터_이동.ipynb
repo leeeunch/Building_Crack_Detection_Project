{
  "nbformat": 4,
  "nbformat_minor": 0,
  "metadata": {
    "colab": {
      "name": "데이터 이동.ipynb",
      "provenance": [],
      "collapsed_sections": [],
      "toc_visible": true
    },
    "kernelspec": {
      "name": "python3",
      "display_name": "Python 3"
    },
    "language_info": {
      "name": "python"
    }
  },
  "cells": [
    {
      "cell_type": "markdown",
      "source": [
        "# json 데이터 옮기기"
      ],
      "metadata": {
        "id": "p3A5QMhYozit"
      }
    },
    {
      "cell_type": "markdown",
      "source": [
        "## 박리 데이터 "
      ],
      "metadata": {
        "id": "QKO9ewhJo_TE"
      }
    },
    {
      "cell_type": "markdown",
      "source": [
        "### 경로 이동"
      ],
      "metadata": {
        "id": "kBwRiTT4nq_V"
      }
    },
    {
      "cell_type": "code",
      "execution_count": null,
      "metadata": {
        "colab": {
          "base_uri": "https://localhost:8080/"
        },
        "id": "qNJ1QGn97z2p",
        "outputId": "35d74b24-3d66-4a34-b1d6-28090fe1b2cf"
      },
      "outputs": [
        {
          "output_type": "stream",
          "name": "stdout",
          "text": [
            "\u001b[0m\u001b[01;34mdrive\u001b[0m/  \u001b[01;34msample_data\u001b[0m/\n"
          ]
        }
      ],
      "source": [
        "ls"
      ]
    },
    {
      "cell_type": "code",
      "source": [
        "%cd /content/drive/MyDrive/Colab Notebooks/광주 인공지능 사관학교/이게 머선러닝이조/틈직한 판정단 자료/데이터/틈직한 판정단"
      ],
      "metadata": {
        "colab": {
          "base_uri": "https://localhost:8080/"
        },
        "id": "Pvfa2GBk8L5F",
        "outputId": "abd3931c-297c-451b-a59a-8eadeb7c282d"
      },
      "execution_count": null,
      "outputs": [
        {
          "output_type": "stream",
          "name": "stdout",
          "text": [
            "/content/drive/.shortcut-targets-by-id/1x9dqzQ3wqGKi02DVG-o0wpLtqF524nAw/틈직한_판정단\n"
          ]
        }
      ]
    },
    {
      "cell_type": "code",
      "source": [
        "ls"
      ],
      "metadata": {
        "colab": {
          "base_uri": "https://localhost:8080/"
        },
        "id": "7ueaFWvS8TAL",
        "outputId": "ca833cf3-a458-452e-a026-e1927e1e3465"
      },
      "execution_count": null,
      "outputs": [
        {
          "output_type": "stream",
          "name": "stdout",
          "text": [
            " \u001b[0m\u001b[01;34m박리_라벨링\u001b[0m/\n",
            "\u001b[01;34m'건물_균열_탐지_이미지(라벨링)'\u001b[0m\u001b[K/\n",
            " \u001b[01;34m콘크리드_라벨링\u001b[0m/\n",
            " \u001b[01;34m백태누수_라벨링\u001b[0m/\n",
            "\u001b[01;34m'[강재]콘크리트_박리_라벨링_02'\u001b[0m\u001b[K/\n",
            "\u001b[01;34m'[강재]콘크리트_백태누수_라벨링_02.zip(Unzipped_Files)'\u001b[0m\u001b[K/\n",
            "\u001b[01;34m'[강재]콘크리트_콘크리트균열_라벨링_02.zip(Unzipped_Files)'\u001b[0m\u001b[K/\n",
            "\u001b[01;34m'[원천]콘크리트_백태누수_원천_19(unzipped_files)'\u001b[0m\u001b[K/\n",
            "\u001b[01;34m'[원천]콘크리트_박리_원천_20.zip(Unzipped_Files)'\u001b[0m\u001b[K/\n",
            "\u001b[01;34m'[원천]콘크리트_콘크리트균열_원천_41.zip(Unzipped_Files)'\u001b[0m\u001b[K/\n",
            " BBOX.ipynb\n",
            " \u001b[01;34mdata\u001b[0m/\n",
            " 박리_라벨링.ipynb\n",
            "'데이터 이동.ipynb'\n",
            " 콘크리드_라벨링_값_변경.ipynb\n",
            " 백태누수_라벨링.ipynb\n",
            " \u001b[01;34msmall_data\u001b[0m/\n",
            " 박리_tiff.txt\n",
            " Untitled0.ipynb\n",
            " Untitled1.ipynb\n"
          ]
        }
      ]
    },
    {
      "cell_type": "code",
      "source": [
        "%cd 박리_라벨링"
      ],
      "metadata": {
        "colab": {
          "base_uri": "https://localhost:8080/"
        },
        "id": "-GBbzAGa8UWS",
        "outputId": "c8ee1e71-2a6a-4cf4-f311-00d0652c48bf"
      },
      "execution_count": null,
      "outputs": [
        {
          "output_type": "stream",
          "name": "stdout",
          "text": [
            "/content/drive/.shortcut-targets-by-id/1x9dqzQ3wqGKi02DVG-o0wpLtqF524nAw/틈직한_판정단/박리_라벨링\n"
          ]
        }
      ]
    },
    {
      "cell_type": "code",
      "source": [
        "%cd .."
      ],
      "metadata": {
        "colab": {
          "base_uri": "https://localhost:8080/"
        },
        "id": "vHemhlSN-qCv",
        "outputId": "a0e48b25-454c-46fd-8a47-bbc1209c1460"
      },
      "execution_count": null,
      "outputs": [
        {
          "output_type": "stream",
          "name": "stdout",
          "text": [
            "/content/drive/.shortcut-targets-by-id/1x9dqzQ3wqGKi02DVG-o0wpLtqF524nAw/틈직한_판정단\n"
          ]
        }
      ]
    },
    {
      "cell_type": "markdown",
      "source": [
        "### json 파일 이름 저장"
      ],
      "metadata": {
        "id": "tVu2yIajnw5E"
      }
    },
    {
      "cell_type": "code",
      "source": [
        "from glob import glob \n",
        "name = []\n",
        "for filename in glob('*.json'):\n",
        "  name.append(filename)\n",
        "\n",
        "name"
      ],
      "metadata": {
        "id": "b_TxzZ3L8b2A"
      },
      "execution_count": null,
      "outputs": []
    },
    {
      "cell_type": "code",
      "source": [
        "len(name[:100])"
      ],
      "metadata": {
        "colab": {
          "base_uri": "https://localhost:8080/"
        },
        "id": "i-9xRUU09LQC",
        "outputId": "5ade3666-88a4-4a4b-c869-e00bc2f90dd2"
      },
      "execution_count": null,
      "outputs": [
        {
          "output_type": "execute_result",
          "data": {
            "text/plain": [
              "100"
            ]
          },
          "metadata": {},
          "execution_count": 10
        }
      ]
    },
    {
      "cell_type": "markdown",
      "source": [
        "### json 파일 이동"
      ],
      "metadata": {
        "id": "CIfObdtbn1KC"
      }
    },
    {
      "cell_type": "code",
      "source": [
        "import os\n",
        "import shutil\n",
        "for file_name in name[:100]:    \n",
        "    shutil.move(os.path.join('박리_라벨링',file_name),\n",
        "                os.path.join('data/label',file_name))"
      ],
      "metadata": {
        "id": "L_-udSMv9XPn"
      },
      "execution_count": null,
      "outputs": []
    },
    {
      "cell_type": "markdown",
      "source": [
        "### 이동된 json 파일 개수 확인"
      ],
      "metadata": {
        "id": "Ni3f3gRHn8F7"
      }
    },
    {
      "cell_type": "code",
      "source": [
        "js_name = []\n",
        "for filename in glob('*.json'):\n",
        "  js_name.append(filename)\n",
        "\n",
        "len(js_name)"
      ],
      "metadata": {
        "colab": {
          "base_uri": "https://localhost:8080/"
        },
        "id": "WULvRntF-OWC",
        "outputId": "8d933fea-e2f4-4be0-b38e-4bf935269228"
      },
      "execution_count": null,
      "outputs": [
        {
          "output_type": "execute_result",
          "data": {
            "text/plain": [
              "100"
            ]
          },
          "metadata": {},
          "execution_count": 24
        }
      ]
    },
    {
      "cell_type": "markdown",
      "source": [
        "## 콘크리트 데이터"
      ],
      "metadata": {
        "id": "HStugUFEoEsb"
      }
    },
    {
      "cell_type": "markdown",
      "source": [
        "### 경로 이동"
      ],
      "metadata": {
        "id": "yHjs4owppSsl"
      }
    },
    {
      "cell_type": "code",
      "source": [
        "%cd ../.."
      ],
      "metadata": {
        "colab": {
          "base_uri": "https://localhost:8080/"
        },
        "id": "qUbciozL9-7O",
        "outputId": "faa36956-bf7c-4666-9617-334a8f75aeb9"
      },
      "execution_count": null,
      "outputs": [
        {
          "output_type": "stream",
          "name": "stdout",
          "text": [
            "/content/drive/.shortcut-targets-by-id/1x9dqzQ3wqGKi02DVG-o0wpLtqF524nAw/틈직한_판정단\n"
          ]
        }
      ]
    },
    {
      "cell_type": "code",
      "source": [
        "%ls"
      ],
      "metadata": {
        "colab": {
          "base_uri": "https://localhost:8080/"
        },
        "id": "bzb4QSRoCBQE",
        "outputId": "6f6bdcc8-bddc-4aee-9606-dcaa682552eb"
      },
      "execution_count": null,
      "outputs": [
        {
          "output_type": "stream",
          "name": "stdout",
          "text": [
            " \u001b[0m\u001b[01;34m박리_라벨링\u001b[0m/\n",
            "\u001b[01;34m'건물_균열_탐지_이미지(라벨링)'\u001b[0m\u001b[K/\n",
            " \u001b[01;34m콘크리드_라벨링\u001b[0m/\n",
            " \u001b[01;34m백태누수_라벨링\u001b[0m/\n",
            "\u001b[01;34m'[강재]콘크리트_박리_라벨링_02'\u001b[0m\u001b[K/\n",
            "\u001b[01;34m'[강재]콘크리트_백태누수_라벨링_02.zip(Unzipped_Files)'\u001b[0m\u001b[K/\n",
            "\u001b[01;34m'[강재]콘크리트_콘크리트균열_라벨링_02.zip(Unzipped_Files)'\u001b[0m\u001b[K/\n",
            "\u001b[01;34m'[원천]콘크리트_백태누수_원천_19(unzipped_files)'\u001b[0m\u001b[K/\n",
            "\u001b[01;34m'[원천]콘크리트_박리_원천_20.zip(Unzipped_Files)'\u001b[0m\u001b[K/\n",
            "\u001b[01;34m'[원천]콘크리트_콘크리트균열_원천_41.zip(Unzipped_Files)'\u001b[0m\u001b[K/\n",
            " BBOX.ipynb\n",
            " \u001b[01;34mdata\u001b[0m/\n",
            " 박리_라벨링.ipynb\n",
            "'데이터 이동.ipynb'\n",
            " 콘크리드_라벨링_값_변경.ipynb\n",
            " 백태누수_라벨링.ipynb\n",
            " \u001b[01;34msmall_data\u001b[0m/\n",
            " 박리_tiff.txt\n",
            " Untitled0.ipynb\n",
            " Untitled1.ipynb\n"
          ]
        }
      ]
    },
    {
      "cell_type": "code",
      "source": [
        "%cd 콘크리드_라벨링"
      ],
      "metadata": {
        "colab": {
          "base_uri": "https://localhost:8080/"
        },
        "id": "fkPm91LxCFfw",
        "outputId": "fd8e3fdc-5eae-4eab-b295-8b3a6eb2d7b7"
      },
      "execution_count": null,
      "outputs": [
        {
          "output_type": "stream",
          "name": "stdout",
          "text": [
            "/content/drive/.shortcut-targets-by-id/1x9dqzQ3wqGKi02DVG-o0wpLtqF524nAw/틈직한_판정단/콘크리드_라벨링\n"
          ]
        }
      ]
    },
    {
      "cell_type": "markdown",
      "source": [
        "### json 파일 이름 저장"
      ],
      "metadata": {
        "id": "T6hWmQElpMRW"
      }
    },
    {
      "cell_type": "code",
      "source": [
        "crack_name = []\n",
        "for filename in glob('*.json'):\n",
        "  crack_name.append(filename)\n",
        "\n",
        "len(crack_name)"
      ],
      "metadata": {
        "id": "q3hAjULeCamy"
      },
      "execution_count": null,
      "outputs": []
    },
    {
      "cell_type": "code",
      "source": [
        "len(crack_name)"
      ],
      "metadata": {
        "colab": {
          "base_uri": "https://localhost:8080/"
        },
        "id": "5qTAFac3Ci_H",
        "outputId": "7e53eda1-69d5-48d3-dcb4-1bf070e18c49"
      },
      "execution_count": null,
      "outputs": [
        {
          "output_type": "execute_result",
          "data": {
            "text/plain": [
              "2098"
            ]
          },
          "metadata": {},
          "execution_count": 36
        }
      ]
    },
    {
      "cell_type": "markdown",
      "source": [
        "### json 파일 이동"
      ],
      "metadata": {
        "id": "VVTHnfVopYG6"
      }
    },
    {
      "cell_type": "code",
      "source": [
        "%cd .."
      ],
      "metadata": {
        "colab": {
          "base_uri": "https://localhost:8080/"
        },
        "id": "GZSAUlirDbOw",
        "outputId": "b54ec6b6-d522-4f67-f910-49d818c87f20"
      },
      "execution_count": null,
      "outputs": [
        {
          "output_type": "stream",
          "name": "stdout",
          "text": [
            "/content/drive/.shortcut-targets-by-id/1x9dqzQ3wqGKi02DVG-o0wpLtqF524nAw/틈직한_판정단\n"
          ]
        }
      ]
    },
    {
      "cell_type": "code",
      "source": [
        "for file_name in crack_name[:100]:    \n",
        "    shutil.move(os.path.join('콘크리드_라벨링',file_name),\n",
        "                os.path.join('data/label',file_name))"
      ],
      "metadata": {
        "id": "vF1-fCV-CmqE"
      },
      "execution_count": null,
      "outputs": []
    },
    {
      "cell_type": "code",
      "source": [
        "crack = crack_name[:100]"
      ],
      "metadata": {
        "id": "VXCSjb05C2EN"
      },
      "execution_count": null,
      "outputs": []
    },
    {
      "cell_type": "markdown",
      "source": [
        "## 백태누수 데이터"
      ],
      "metadata": {
        "id": "VngQ4crlpdMz"
      }
    },
    {
      "cell_type": "markdown",
      "source": [
        "### 경로 이동"
      ],
      "metadata": {
        "id": "rT9_-KdSpkJD"
      }
    },
    {
      "cell_type": "code",
      "source": [
        "ls"
      ],
      "metadata": {
        "colab": {
          "base_uri": "https://localhost:8080/"
        },
        "id": "2Ex9VhUoDqIu",
        "outputId": "8bd18ab0-fe40-49e3-d34e-9b82bc79fe4a"
      },
      "execution_count": null,
      "outputs": [
        {
          "output_type": "stream",
          "name": "stdout",
          "text": [
            " \u001b[0m\u001b[01;34m박리_라벨링\u001b[0m/\n",
            "\u001b[01;34m'건물_균열_탐지_이미지(라벨링)'\u001b[0m\u001b[K/\n",
            " \u001b[01;34m콘크리드_라벨링\u001b[0m/\n",
            " \u001b[01;34m백태누수_라벨링\u001b[0m/\n",
            "\u001b[01;34m'[강재]콘크리트_박리_라벨링_02'\u001b[0m\u001b[K/\n",
            "\u001b[01;34m'[강재]콘크리트_백태누수_라벨링_02.zip(Unzipped_Files)'\u001b[0m\u001b[K/\n",
            "\u001b[01;34m'[강재]콘크리트_콘크리트균열_라벨링_02.zip(Unzipped_Files)'\u001b[0m\u001b[K/\n",
            "\u001b[01;34m'[원천]콘크리트_백태누수_원천_19(unzipped_files)'\u001b[0m\u001b[K/\n",
            "\u001b[01;34m'[원천]콘크리트_박리_원천_20.zip(Unzipped_Files)'\u001b[0m\u001b[K/\n",
            "\u001b[01;34m'[원천]콘크리트_콘크리트균열_원천_41.zip(Unzipped_Files)'\u001b[0m\u001b[K/\n",
            " BBOX.ipynb\n",
            " \u001b[01;34mdata\u001b[0m/\n",
            " 박리_라벨링.ipynb\n",
            "'데이터 이동.ipynb'\n",
            " 콘크리드_라벨링_값_변경.ipynb\n",
            " 백태누수_라벨링.ipynb\n",
            " \u001b[01;34msmall_data\u001b[0m/\n",
            " 박리_tiff.txt\n",
            " Untitled0.ipynb\n",
            " Untitled1.ipynb\n"
          ]
        }
      ]
    },
    {
      "cell_type": "code",
      "source": [
        "%cd 백태누수_라벨링"
      ],
      "metadata": {
        "colab": {
          "base_uri": "https://localhost:8080/"
        },
        "id": "sXnPjxVqDkLV",
        "outputId": "0b18981a-83bc-4698-9639-7fa4567ec1a5"
      },
      "execution_count": null,
      "outputs": [
        {
          "output_type": "stream",
          "name": "stdout",
          "text": [
            "/content/drive/.shortcut-targets-by-id/1x9dqzQ3wqGKi02DVG-o0wpLtqF524nAw/틈직한_판정단/백태누수_라벨링\n"
          ]
        }
      ]
    },
    {
      "cell_type": "markdown",
      "source": [
        "### json 파일 이름 저장"
      ],
      "metadata": {
        "id": "ss_zwswopmxi"
      }
    },
    {
      "cell_type": "code",
      "source": [
        "back_name = []\n",
        "for filename in glob('*.json'):\n",
        "  back_name.append(filename)\n",
        "\n",
        "len(back_name)"
      ],
      "metadata": {
        "colab": {
          "base_uri": "https://localhost:8080/"
        },
        "id": "GY9AlCD2DsZz",
        "outputId": "d5f74452-3a20-456b-d520-b58b80510da0"
      },
      "execution_count": null,
      "outputs": [
        {
          "output_type": "execute_result",
          "data": {
            "text/plain": [
              "1733"
            ]
          },
          "metadata": {},
          "execution_count": 44
        }
      ]
    },
    {
      "cell_type": "markdown",
      "source": [
        "### json 파일 이동"
      ],
      "metadata": {
        "id": "43Hcl4yjpqpa"
      }
    },
    {
      "cell_type": "code",
      "source": [
        "%cd .."
      ],
      "metadata": {
        "colab": {
          "base_uri": "https://localhost:8080/"
        },
        "id": "SNzOArx-EAx2",
        "outputId": "f0daf0fd-be94-49f5-9203-525bc0aab7b4"
      },
      "execution_count": null,
      "outputs": [
        {
          "output_type": "stream",
          "name": "stdout",
          "text": [
            "/content/drive/.shortcut-targets-by-id/1x9dqzQ3wqGKi02DVG-o0wpLtqF524nAw/틈직한_판정단\n"
          ]
        }
      ]
    },
    {
      "cell_type": "code",
      "source": [
        "for file_name in back_name[:100]:    \n",
        "    shutil.move(os.path.join('백태누수_라벨링',file_name),\n",
        "                os.path.join('data/label',file_name))"
      ],
      "metadata": {
        "id": "aTPyX9bUD0Ii"
      },
      "execution_count": null,
      "outputs": []
    },
    {
      "cell_type": "code",
      "source": [
        "backte = back_name[:100]"
      ],
      "metadata": {
        "id": "inN2VOjhEIjW"
      },
      "execution_count": null,
      "outputs": []
    },
    {
      "cell_type": "code",
      "source": [
        "ls"
      ],
      "metadata": {
        "colab": {
          "base_uri": "https://localhost:8080/"
        },
        "id": "i26-r2YkERzR",
        "outputId": "ae136d2b-bf9f-45b6-94b6-cd0ed6c5d515"
      },
      "execution_count": null,
      "outputs": [
        {
          "output_type": "stream",
          "name": "stdout",
          "text": [
            " \u001b[0m\u001b[01;34m박리_라벨링\u001b[0m/\n",
            "\u001b[01;34m'건물_균열_탐지_이미지(라벨링)'\u001b[0m\u001b[K/\n",
            " \u001b[01;34m콘크리드_라벨링\u001b[0m/\n",
            " \u001b[01;34m백태누수_라벨링\u001b[0m/\n",
            "\u001b[01;34m'[강재]콘크리트_박리_라벨링_02'\u001b[0m\u001b[K/\n",
            "\u001b[01;34m'[강재]콘크리트_백태누수_라벨링_02.zip(Unzipped_Files)'\u001b[0m\u001b[K/\n",
            "\u001b[01;34m'[강재]콘크리트_콘크리트균열_라벨링_02.zip(Unzipped_Files)'\u001b[0m\u001b[K/\n",
            "\u001b[01;34m'[원천]콘크리트_백태누수_원천_19(unzipped_files)'\u001b[0m\u001b[K/\n",
            "\u001b[01;34m'[원천]콘크리트_박리_원천_20.zip(Unzipped_Files)'\u001b[0m\u001b[K/\n",
            "\u001b[01;34m'[원천]콘크리트_콘크리트균열_원천_41.zip(Unzipped_Files)'\u001b[0m\u001b[K/\n",
            " BBOX.ipynb\n",
            " \u001b[01;34mdata\u001b[0m/\n",
            " 박리_라벨링.ipynb\n",
            "'데이터 이동.ipynb'\n",
            " 콘크리드_라벨링_값_변경.ipynb\n",
            " 백태누수_라벨링.ipynb\n",
            " \u001b[01;34msmall_data\u001b[0m/\n",
            " 박리_tiff.txt\n",
            " Untitled0.ipynb\n",
            " Untitled1.ipynb\n"
          ]
        }
      ]
    },
    {
      "cell_type": "markdown",
      "source": [
        "## 전체 이동된 label data 확인"
      ],
      "metadata": {
        "id": "H2piQq0Gpyi1"
      }
    },
    {
      "cell_type": "code",
      "source": [
        "%cd data/label"
      ],
      "metadata": {
        "colab": {
          "base_uri": "https://localhost:8080/"
        },
        "id": "KqKQoSaZETB3",
        "outputId": "33886c7c-3bb8-4317-850a-4285eb99e0e0"
      },
      "execution_count": null,
      "outputs": [
        {
          "output_type": "stream",
          "name": "stdout",
          "text": [
            "/content/drive/.shortcut-targets-by-id/1x9dqzQ3wqGKi02DVG-o0wpLtqF524nAw/틈직한_판정단/data/label\n"
          ]
        }
      ]
    },
    {
      "cell_type": "code",
      "source": [
        "all_name = []\n",
        "for filename in glob('*.json'):\n",
        "  all_name.append(filename)\n",
        "\n",
        "len(all_name)"
      ],
      "metadata": {
        "colab": {
          "base_uri": "https://localhost:8080/"
        },
        "id": "M2MscfH2D8TM",
        "outputId": "3d1c4010-6aec-4a0e-a517-5ab609c9eae8"
      },
      "execution_count": null,
      "outputs": [
        {
          "output_type": "execute_result",
          "data": {
            "text/plain": [
              "300"
            ]
          },
          "metadata": {},
          "execution_count": 52
        }
      ]
    },
    {
      "cell_type": "code",
      "source": [
        "len(set(all_name))"
      ],
      "metadata": {
        "colab": {
          "base_uri": "https://localhost:8080/"
        },
        "id": "90j2T31MEQwa",
        "outputId": "f8084c4f-bf51-4e51-c0e4-77e37b5d384f"
      },
      "execution_count": null,
      "outputs": [
        {
          "output_type": "execute_result",
          "data": {
            "text/plain": [
              "300"
            ]
          },
          "metadata": {},
          "execution_count": 53
        }
      ]
    },
    {
      "cell_type": "markdown",
      "source": [
        "# 이미지 옮기기"
      ],
      "metadata": {
        "id": "ys0h6CL8EbO2"
      }
    },
    {
      "cell_type": "markdown",
      "source": [
        "## 경로 이동"
      ],
      "metadata": {
        "id": "mFyztBaBp3TD"
      }
    },
    {
      "cell_type": "code",
      "source": [
        "%cd .."
      ],
      "metadata": {
        "colab": {
          "base_uri": "https://localhost:8080/"
        },
        "id": "y7egsPyFEkCB",
        "outputId": "7976335e-38a7-4f5e-e914-e45d5d0431ef"
      },
      "execution_count": null,
      "outputs": [
        {
          "output_type": "stream",
          "name": "stdout",
          "text": [
            "/content/drive/.shortcut-targets-by-id/1x9dqzQ3wqGKi02DVG-o0wpLtqF524nAw/틈직한_판정단\n"
          ]
        }
      ]
    },
    {
      "cell_type": "code",
      "source": [
        "ls"
      ],
      "metadata": {
        "colab": {
          "base_uri": "https://localhost:8080/"
        },
        "id": "oS8nnZHmEoBr",
        "outputId": "a6bf0725-1928-40ef-e7e8-747a68abaf80"
      },
      "execution_count": null,
      "outputs": [
        {
          "output_type": "stream",
          "name": "stdout",
          "text": [
            " \u001b[0m\u001b[01;34m박리_라벨링\u001b[0m/\n",
            "\u001b[01;34m'건물_균열_탐지_이미지(라벨링)'\u001b[0m\u001b[K/\n",
            " \u001b[01;34m콘크리드_라벨링\u001b[0m/\n",
            " \u001b[01;34m백태누수_라벨링\u001b[0m/\n",
            "\u001b[01;34m'[강재]콘크리트_박리_라벨링_02'\u001b[0m\u001b[K/\n",
            "\u001b[01;34m'[강재]콘크리트_백태누수_라벨링_02.zip(Unzipped_Files)'\u001b[0m\u001b[K/\n",
            "\u001b[01;34m'[강재]콘크리트_콘크리트균열_라벨링_02.zip(Unzipped_Files)'\u001b[0m\u001b[K/\n",
            "\u001b[01;34m'[원천]콘크리트_백태누수_원천_19(unzipped_files)'\u001b[0m\u001b[K/\n",
            "\u001b[01;34m'[원천]콘크리트_박리_원천_20.zip(Unzipped_Files)'\u001b[0m\u001b[K/\n",
            "\u001b[01;34m'[원천]콘크리트_콘크리트균열_원천_41.zip(Unzipped_Files)'\u001b[0m\u001b[K/\n",
            " BBOX.ipynb\n",
            " \u001b[01;34mdata\u001b[0m/\n",
            " 박리_라벨링.ipynb\n",
            "'데이터 이동.ipynb'\n",
            " 콘크리드_라벨링_값_변경.ipynb\n",
            " 백태누수_라벨링.ipynb\n",
            " \u001b[01;34msmall_data\u001b[0m/\n",
            " 박리_tiff.txt\n",
            " Untitled0.ipynb\n",
            " Untitled1.ipynb\n"
          ]
        }
      ]
    },
    {
      "cell_type": "markdown",
      "source": [
        "## 이미지 데이터 옮기기"
      ],
      "metadata": {
        "id": "euVI-TU7qHwT"
      }
    },
    {
      "cell_type": "code",
      "source": [
        "for file_name in bakri:    \n",
        "    shutil.move(os.path.join('[원천]콘크리트_박리_원천_20.zip(Unzipped_Files)',file_name[:-4]+'tiff'),\n",
        "                os.path.join('data/img',file_name[:-4]+'tiff'))"
      ],
      "metadata": {
        "id": "6hRrpmBpKTHC"
      },
      "execution_count": null,
      "outputs": []
    },
    {
      "cell_type": "code",
      "source": [
        "for file_name in backte:    \n",
        "    shutil.move(os.path.join('[원천]콘크리트_백태누수_원천_19(unzipped_files)',file_name[:-4]+'tiff'),\n",
        "                os.path.join('data/img',file_name[:-4]+'tiff'))"
      ],
      "metadata": {
        "id": "rCQqpZeIKxKO"
      },
      "execution_count": null,
      "outputs": []
    },
    {
      "cell_type": "code",
      "source": [
        "for file_name in crack:    \n",
        "    shutil.move(os.path.join('[원천]콘크리트_콘크리트균열_원천_41.zip(Unzipped_Files)',file_name[:-4]+'tiff'),\n",
        "                os.path.join('data/img',file_name[:-4]+'tiff'))"
      ],
      "metadata": {
        "id": "5Xq7Rtp3LVn2"
      },
      "execution_count": null,
      "outputs": []
    },
    {
      "cell_type": "markdown",
      "source": [
        "## 전체 이동된 이미지 데이터 확인"
      ],
      "metadata": {
        "id": "Iue76VJmqMml"
      }
    },
    {
      "cell_type": "code",
      "source": [
        "%cd data/img"
      ],
      "metadata": {
        "colab": {
          "base_uri": "https://localhost:8080/"
        },
        "id": "Zi8GUGV3LiU0",
        "outputId": "d93452b9-853c-44a2-a883-6053ee93abd9"
      },
      "execution_count": null,
      "outputs": [
        {
          "output_type": "stream",
          "name": "stdout",
          "text": [
            "/content/drive/.shortcut-targets-by-id/1x9dqzQ3wqGKi02DVG-o0wpLtqF524nAw/틈직한_판정단/data/img\n"
          ]
        }
      ]
    },
    {
      "cell_type": "code",
      "source": [
        "all_img = []\n",
        "for filename in glob('*.tiff'):\n",
        "  all_img.append(filename)\n",
        "\n",
        "len(all_img)"
      ],
      "metadata": {
        "colab": {
          "base_uri": "https://localhost:8080/"
        },
        "id": "5yE2yGMPLv-e",
        "outputId": "43c1ec03-54b9-473b-a1bf-2b5c3861ebb8"
      },
      "execution_count": null,
      "outputs": [
        {
          "output_type": "execute_result",
          "data": {
            "text/plain": [
              "300"
            ]
          },
          "metadata": {},
          "execution_count": 76
        }
      ]
    }
  ]
}