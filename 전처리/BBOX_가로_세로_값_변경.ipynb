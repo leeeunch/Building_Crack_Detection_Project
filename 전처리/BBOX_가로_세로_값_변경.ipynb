{
  "nbformat": 4,
  "nbformat_minor": 0,
  "metadata": {
    "colab": {
      "provenance": [],
      "collapsed_sections": []
    },
    "kernelspec": {
      "name": "python3",
      "display_name": "Python 3"
    },
    "language_info": {
      "name": "python"
    }
  },
  "cells": [
    {
      "cell_type": "markdown",
      "source": [
        "# 경로 이동"
      ],
      "metadata": {
        "id": "w17HB3JyIq-C"
      }
    },
    {
      "cell_type": "code",
      "source": [
        "from google.colab import drive\n",
        "drive.mount('/content/drive')"
      ],
      "metadata": {
        "colab": {
          "base_uri": "https://localhost:8080/"
        },
        "id": "qX3C4LX_8T3r",
        "outputId": "e996ea2a-b7d8-4a7a-9bba-082fb825a50a"
      },
      "execution_count": null,
      "outputs": [
        {
          "output_type": "stream",
          "name": "stdout",
          "text": [
            "Mounted at /content/drive\n"
          ]
        }
      ]
    },
    {
      "cell_type": "code",
      "source": [
        "%cd /content/drive/MyDrive/Colab Notebooks/광주 인공지능 사관학교/이게 머선러닝이조/틈직한 판정단 자료"
      ],
      "metadata": {
        "colab": {
          "base_uri": "https://localhost:8080/"
        },
        "id": "LxDsCxyt8boW",
        "outputId": "fe5377c9-0096-4fff-b20e-200892cf765d"
      },
      "execution_count": null,
      "outputs": [
        {
          "output_type": "stream",
          "name": "stdout",
          "text": [
            "/content/drive/MyDrive/Colab Notebooks/광주 인공지능 사관학교/이게 머선러닝이조/틈직한 판정단 자료\n"
          ]
        }
      ]
    },
    {
      "cell_type": "code",
      "source": [
        "%cd 데이터/틈직한 판정단"
      ],
      "metadata": {
        "colab": {
          "base_uri": "https://localhost:8080/"
        },
        "id": "j7CbHvB38kkC",
        "outputId": "5fdb0753-aebb-419f-ab7b-5384539b5dc2"
      },
      "execution_count": null,
      "outputs": [
        {
          "output_type": "stream",
          "name": "stdout",
          "text": [
            "/content/drive/.shortcut-targets-by-id/1x9dqzQ3wqGKi02DVG-o0wpLtqF524nAw/틈직한_판정단\n"
          ]
        }
      ]
    },
    {
      "cell_type": "code",
      "source": [
        "%cd last_data"
      ],
      "metadata": {
        "colab": {
          "base_uri": "https://localhost:8080/"
        },
        "id": "FNjF4ByC9F7B",
        "outputId": "fade152e-88fb-4a75-d233-5ed83213b4fb"
      },
      "execution_count": null,
      "outputs": [
        {
          "output_type": "stream",
          "name": "stdout",
          "text": [
            "/content/drive/.shortcut-targets-by-id/1x9dqzQ3wqGKi02DVG-o0wpLtqF524nAw/틈직한_판정단/last_data\n"
          ]
        }
      ]
    },
    {
      "cell_type": "code",
      "source": [
        "%cd label_txt"
      ],
      "metadata": {
        "colab": {
          "base_uri": "https://localhost:8080/"
        },
        "id": "FOpYHsID9J-N",
        "outputId": "cba21ec9-5fa7-444b-ea60-9a3a3401198f"
      },
      "execution_count": null,
      "outputs": [
        {
          "output_type": "stream",
          "name": "stdout",
          "text": [
            "/content/drive/.shortcut-targets-by-id/1x9dqzQ3wqGKi02DVG-o0wpLtqF524nAw/틈직한_판정단/last_data/label_txt\n"
          ]
        }
      ]
    },
    {
      "cell_type": "markdown",
      "source": [
        "# 라벨링 데이터 이름 저장"
      ],
      "metadata": {
        "id": "bSQDANhTe75e"
      }
    },
    {
      "cell_type": "code",
      "source": [
        "from glob import glob\n",
        "\n",
        "name = []\n",
        "for filename in glob('*.txt'):\n",
        "  name.append(filename)\n",
        "\n",
        "name[0],len(name)"
      ],
      "metadata": {
        "colab": {
          "base_uri": "https://localhost:8080/"
        },
        "id": "u2euuSFB9Mcz",
        "outputId": "14237e6c-038a-4002-fbb3-5d7bfd4a2122"
      },
      "execution_count": null,
      "outputs": [
        {
          "output_type": "execute_result",
          "data": {
            "text/plain": [
              "('103_2da50a5b-987d-4595-9981-494d5dc22c28.txt', 300)"
            ]
          },
          "metadata": {},
          "execution_count": 11
        }
      ]
    },
    {
      "cell_type": "markdown",
      "source": [
        "# 데이터 탐색"
      ],
      "metadata": {
        "id": "8fC6i3-Ng2cW"
      }
    },
    {
      "cell_type": "code",
      "source": [
        "with open(name[0], 'r') as f:\n",
        "  jdata = f.read()\n",
        "print(jdata)"
      ],
      "metadata": {
        "colab": {
          "base_uri": "https://localhost:8080/"
        },
        "id": "eUaGkxem9ql7",
        "outputId": "2f81e2b0-02c7-4fdb-9516-82a224f6d65a"
      },
      "execution_count": null,
      "outputs": [
        {
          "output_type": "stream",
          "name": "stdout",
          "text": [
            "1 637.5 1042.5 1245 795\n",
            "1 630.0 327.5 1250 655\n",
            "1 1555.0 522.5 590 1045\n",
            "1 2200.0 640.0 710 1280\n",
            "\n"
          ]
        }
      ]
    },
    {
      "cell_type": "code",
      "source": [
        "for i in txt_data[0].split('\\n'):\n",
        "  print(i)"
      ],
      "metadata": {
        "colab": {
          "base_uri": "https://localhost:8080/"
        },
        "id": "Nj5h3OCqA3cj",
        "outputId": "9ac64d36-0c5f-4928-9021-27611bf1778c"
      },
      "execution_count": null,
      "outputs": [
        {
          "output_type": "stream",
          "name": "stdout",
          "text": [
            "1 637.5 1042.5 1245 795\n",
            "1 630.0 327.5 1250 655\n",
            "1 1555.0 522.5 590 1045\n",
            "1 2200.0 640.0 710 1280\n",
            "\n"
          ]
        }
      ]
    },
    {
      "cell_type": "code",
      "source": [
        "a[0].split(' ')"
      ],
      "metadata": {
        "colab": {
          "base_uri": "https://localhost:8080/"
        },
        "id": "h_jEEkOGB00Y",
        "outputId": "991cae8c-54a2-4362-accf-0df6d5e66eee"
      },
      "execution_count": null,
      "outputs": [
        {
          "output_type": "execute_result",
          "data": {
            "text/plain": [
              "['1', '637.5', '1042.5', '1245', '795']"
            ]
          },
          "metadata": {},
          "execution_count": 23
        }
      ]
    },
    {
      "cell_type": "markdown",
      "source": [
        "# 전체 라벨링 값 변경"
      ],
      "metadata": {
        "id": "D8uyHluJC5Ru"
      }
    },
    {
      "cell_type": "code",
      "source": [
        "# 전체 데이터 변경\n",
        "for i in range(len(name)):\n",
        "  with open(name[i],'w') as f:\n",
        "    for i in txt_data[i].split('\\n'):\n",
        "      k = i.split(' ')\n",
        "      for j in range(len(k)):\n",
        "        if j == 0:\n",
        "          f.write(str(k[j])+' ')\n",
        "        elif j%2 == 1: \n",
        "          f.write(str(float(k[j])/2560)+' ')\n",
        "        else:\n",
        "          f.write(str(float(k[j])/1440)+' ')\n",
        "      f.write('\\n')"
      ],
      "metadata": {
        "id": "6zl8rV97HV3_"
      },
      "execution_count": null,
      "outputs": []
    }
  ]
}