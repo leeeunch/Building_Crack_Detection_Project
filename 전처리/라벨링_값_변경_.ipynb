{
  "cells": [
    {
      "cell_type": "markdown",
      "source": [
        "# 라이브러리 불러오기"
      ],
      "metadata": {
        "id": "pSGKjZQ_d0oz"
      }
    },
    {
      "cell_type": "code",
      "execution_count": null,
      "metadata": {
        "id": "gwkQOGRGA4p7"
      },
      "outputs": [],
      "source": [
        "import json\n",
        "from glob import glob"
      ]
    },
    {
      "cell_type": "markdown",
      "source": [
        "# 경로 이동"
      ],
      "metadata": {
        "id": "ucQFsynad3jB"
      }
    },
    {
      "cell_type": "code",
      "execution_count": null,
      "metadata": {
        "colab": {
          "base_uri": "https://localhost:8080/"
        },
        "id": "PQ5GY8pc7-Ns",
        "outputId": "0b5f04ab-d3a1-47b5-a927-777ab61d0274"
      },
      "outputs": [
        {
          "output_type": "stream",
          "name": "stdout",
          "text": [
            "\u001b[0m\u001b[01;34msample_data\u001b[0m/\n"
          ]
        }
      ],
      "source": [
        "ls"
      ]
    },
    {
      "cell_type": "code",
      "execution_count": null,
      "metadata": {
        "colab": {
          "base_uri": "https://localhost:8080/"
        },
        "id": "1ulezvIt8FdL",
        "outputId": "fb7213a3-71f3-46a0-e713-17c2be1a5b1b"
      },
      "outputs": [
        {
          "output_type": "stream",
          "name": "stdout",
          "text": [
            "[Errno 2] No such file or directory: 'drive/MyDrive/Colab Notebooks/광주 인공지능 사관학교/이게 머선러닝이조/틈직한 판정단 자료/데이터/틈직한 판정단'\n",
            "/content\n"
          ]
        }
      ],
      "source": [
        "%cd drive/MyDrive/Colab Notebooks/광주 인공지능 사관학교/이게 머선러닝이조/틈직한 판정단 자료/데이터/틈직한 판정단"
      ]
    },
    {
      "cell_type": "code",
      "execution_count": null,
      "metadata": {
        "colab": {
          "base_uri": "https://localhost:8080/"
        },
        "id": "s3Ym-DBy98PQ",
        "outputId": "f21ccc55-bc7b-4037-fbfd-5dc7d64e6db4"
      },
      "outputs": [
        {
          "output_type": "stream",
          "name": "stdout",
          "text": [
            "\u001b[0m\u001b[01;34msample_data\u001b[0m/\n"
          ]
        }
      ],
      "source": [
        "ls"
      ]
    },
    {
      "cell_type": "code",
      "execution_count": null,
      "metadata": {
        "colab": {
          "base_uri": "https://localhost:8080/"
        },
        "id": "xunW1JyF99W6",
        "outputId": "b2ed41ba-7ae6-44b8-a9ee-a200a47292da"
      },
      "outputs": [
        {
          "output_type": "stream",
          "name": "stdout",
          "text": [
            "[Errno 2] No such file or directory: '[강재]콘크리트_콘크리트균열_라벨링_02.zip(Unzipped_Files)'\n",
            "/content\n"
          ]
        }
      ],
      "source": [
        "%cd '[강재]콘크리트_콘크리트균열_라벨링_02.zip(Unzipped_Files)'"
      ]
    },
    {
      "cell_type": "markdown",
      "source": [
        "# 파일 읽어오기"
      ],
      "metadata": {
        "id": "l8jS-lnkd8pp"
      }
    },
    {
      "cell_type": "code",
      "execution_count": null,
      "metadata": {
        "id": "lq2eHlWDaWGu"
      },
      "outputs": [],
      "source": [
        "with open('101_03ffc5bd-3a75-4142-b72c-ee258b350523.json') as jf:\n",
        "  jdata = jf.read()"
      ]
    },
    {
      "cell_type": "code",
      "execution_count": null,
      "metadata": {
        "id": "Y2_aq9FFaWC8"
      },
      "outputs": [],
      "source": [
        "json_data = json.loads(jdata)"
      ]
    },
    {
      "cell_type": "markdown",
      "source": [
        "# 바운딩 박스 값 계산"
      ],
      "metadata": {
        "id": "udtqXPgLeCPE"
      }
    },
    {
      "cell_type": "code",
      "execution_count": null,
      "metadata": {
        "id": "1DB2KGWwaV9m"
      },
      "outputs": [],
      "source": [
        "json_data['annotations'][0]['bbox']"
      ]
    },
    {
      "cell_type": "code",
      "source": [
        "(2*1320+190)/2"
      ],
      "metadata": {
        "id": "vWQcIkijQBbK"
      },
      "execution_count": null,
      "outputs": []
    },
    {
      "cell_type": "code",
      "source": [
        "(2*14+684)/2"
      ],
      "metadata": {
        "id": "KCG01tRXQGUJ"
      },
      "execution_count": null,
      "outputs": []
    },
    {
      "cell_type": "code",
      "source": [
        "(2*json_data['annotations'][0]['bbox'][0] + json_data['annotations'][0]['bbox'][2])/2"
      ],
      "metadata": {
        "id": "2_NGv--HQubP"
      },
      "execution_count": null,
      "outputs": []
    },
    {
      "cell_type": "code",
      "source": [
        "(2*json_data['annotations'][0]['bbox'][1] + json_data['annotations'][0]['bbox'][-1])/2"
      ],
      "metadata": {
        "id": "j3uxsKadREy7"
      },
      "execution_count": null,
      "outputs": []
    },
    {
      "cell_type": "markdown",
      "source": [
        "# 값 변경한 파일 저장"
      ],
      "metadata": {
        "id": "aDJO6P4DeI1C"
      }
    },
    {
      "cell_type": "code",
      "source": [
        "%cd ../콘크리드_라벨링"
      ],
      "metadata": {
        "id": "sJYMrSR8Rtu2"
      },
      "execution_count": null,
      "outputs": []
    },
    {
      "cell_type": "code",
      "source": [
        "ls"
      ],
      "metadata": {
        "id": "t-lOi6RkR8QI"
      },
      "execution_count": null,
      "outputs": []
    },
    {
      "cell_type": "code",
      "source": [
        "with open('101_03ffc5bd-3a75-4142-b72c-ee258b350523.json',\"w\") as f:\n",
        "  f.write('0 '+str((2*json_data['annotations'][0]['bbox'][0] + json_data['annotations'][0]['bbox'][2])/2)+' '+ \n",
        "          str((2*json_data['annotations'][0]['bbox'][1] + json_data['annotations'][0]['bbox'][-1])/2)+' '+\n",
        "          str(json_data['annotations'][0]['bbox'][2])+' '+str(json_data['annotations'][0]['bbox'][3]))"
      ],
      "metadata": {
        "id": "XXqi438BR-Z4"
      },
      "execution_count": null,
      "outputs": []
    },
    {
      "cell_type": "code",
      "source": [
        "json_data['annotations'][1]['bbox']"
      ],
      "metadata": {
        "id": "xGC-jn0pUCjn"
      },
      "execution_count": null,
      "outputs": []
    },
    {
      "cell_type": "code",
      "source": [
        "with open('101_03ffc5bd-3a75-4142-b72c-ee258b350523.json',\"w\") as f:\n",
        "  f.write('0 '+str((2*json_data['annotations'][0]['bbox'][0] + json_data['annotations'][0]['bbox'][2])/2)+' '+ \n",
        "          str((2*json_data['annotations'][0]['bbox'][1] + json_data['annotations'][0]['bbox'][-1])/2)+' '+\n",
        "          str(json_data['annotations'][0]['bbox'][2])+' '+str(json_data['annotations'][0]['bbox'][3]))\n",
        "  f.write('\\n')\n",
        "  f.write('0 '+str((2*json_data['annotations'][1]['bbox'][0] + json_data['annotations'][1]['bbox'][2])/2)+' '+ \n",
        "          str((2*json_data['annotations'][1]['bbox'][1] + json_data['annotations'][1]['bbox'][-1])/2)+' '+\n",
        "          str(json_data['annotations'][1]['bbox'][2])+' '+str(json_data['annotations'][1]['bbox'][3]))"
      ],
      "metadata": {
        "id": "hEykeRz1UPXq"
      },
      "execution_count": null,
      "outputs": []
    },
    {
      "cell_type": "code",
      "source": [
        "print('0 '+str((2*json_data['annotations'][1]['bbox'][0] + json_data['annotations'][1]['bbox'][2])/2)+' '+ \n",
        "          str((2*json_data['annotations'][1]['bbox'][1] + json_data['annotations'][1]['bbox'][-1])/2)+' '+\n",
        "          str(json_data['annotations'][1]['bbox'][2])+' '+str(json_data['annotations'][1]['bbox'][3]))"
      ],
      "metadata": {
        "id": "j9bWR0pgVZuB"
      },
      "execution_count": null,
      "outputs": []
    },
    {
      "cell_type": "markdown",
      "source": [
        "## json 파일 이름 저장"
      ],
      "metadata": {
        "id": "sAbs57pueR0q"
      }
    },
    {
      "cell_type": "code",
      "execution_count": null,
      "metadata": {
        "id": "37AkmrVSijlg"
      },
      "outputs": [],
      "source": [
        "name = []\n",
        "for filename in glob('*.json'):\n",
        "  name.append(filename)\n",
        "\n",
        "name"
      ]
    },
    {
      "cell_type": "markdown",
      "source": [
        "## json 파일 내용 저장"
      ],
      "metadata": {
        "id": "Q93xfp89eXEJ"
      }
    },
    {
      "cell_type": "code",
      "execution_count": null,
      "metadata": {
        "id": "6G13vha8-zHW"
      },
      "outputs": [],
      "source": [
        "import ast\n",
        "json_data = []\n",
        "for filename in name:\n",
        "  with open(filename, 'r') as f:\n",
        "    jdata = f.read()\n",
        "  data = ast.literal_eval(jdata)\n",
        "  json_data.append(data)"
      ]
    },
    {
      "cell_type": "code",
      "execution_count": null,
      "metadata": {
        "colab": {
          "base_uri": "https://localhost:8080/"
        },
        "id": "1QC_H7SC_Wp6",
        "outputId": "adbd483f-5f89-46dd-b059-e9bbfcc8136f"
      },
      "outputs": [
        {
          "output_type": "execute_result",
          "data": {
            "text/plain": [
              "17802"
            ]
          },
          "metadata": {},
          "execution_count": 36
        }
      ],
      "source": [
        "len(json_data)"
      ]
    },
    {
      "cell_type": "markdown",
      "source": [
        "## 이미지 파일 이름 저장"
      ],
      "metadata": {
        "id": "1rC89wqDea6x"
      }
    },
    {
      "cell_type": "code",
      "source": [
        "%cd ../'[원천]콘크리트_콘크리트균열_원천_41.zip (Unzipped_Files)'"
      ],
      "metadata": {
        "colab": {
          "base_uri": "https://localhost:8080/"
        },
        "id": "52TNT7ldZACc",
        "outputId": "ba14788b-eef1-463d-a345-340fbd068287"
      },
      "execution_count": null,
      "outputs": [
        {
          "output_type": "stream",
          "name": "stdout",
          "text": [
            "/content/drive/.shortcut-targets-by-id/1x9dqzQ3wqGKi02DVG-o0wpLtqF524nAw/틈직한_판정단/[원천]콘크리트_콘크리트균열_원천_41.zip (Unzipped_Files)\n"
          ]
        }
      ]
    },
    {
      "cell_type": "code",
      "source": [
        "ls"
      ],
      "metadata": {
        "id": "DbI0Qp7HZs0j"
      },
      "execution_count": null,
      "outputs": []
    },
    {
      "cell_type": "code",
      "source": [
        "img_name = []\n",
        "for filename in glob('*.tiff'):\n",
        "  img_name.append(filename)\n",
        "\n",
        "img_name"
      ],
      "metadata": {
        "id": "baW1QpHqZqs8"
      },
      "execution_count": null,
      "outputs": []
    },
    {
      "cell_type": "markdown",
      "source": [
        "## 이미지 폴더와 json 폴더에 모두 존재하는 파일 명 저장"
      ],
      "metadata": {
        "id": "enhfaBH3ex69"
      }
    },
    {
      "cell_type": "code",
      "source": [
        "js_index_in_img = []\n",
        "for i in name:\n",
        "  if i[:-4] + 'tiff' in img_name:\n",
        "    js_index_in_img.append(name.index(i))\n",
        "js_index_in_img"
      ],
      "metadata": {
        "id": "O4uHtlsvabpP"
      },
      "execution_count": null,
      "outputs": []
    },
    {
      "cell_type": "code",
      "source": [
        "len(js_index_in_img)"
      ],
      "metadata": {
        "colab": {
          "base_uri": "https://localhost:8080/"
        },
        "id": "84aNh_9ubqTO",
        "outputId": "5bfbd2b4-1f30-49d7-9b1f-db2c50f1de05"
      },
      "execution_count": null,
      "outputs": [
        {
          "output_type": "execute_result",
          "data": {
            "text/plain": [
              "2098"
            ]
          },
          "metadata": {},
          "execution_count": 48
        }
      ]
    },
    {
      "cell_type": "code",
      "source": [
        "len(img_name)"
      ],
      "metadata": {
        "colab": {
          "base_uri": "https://localhost:8080/"
        },
        "id": "dwdfx4tMbtAe",
        "outputId": "ec367686-1968-4ced-cc74-0bdbabef939d"
      },
      "execution_count": null,
      "outputs": [
        {
          "output_type": "execute_result",
          "data": {
            "text/plain": [
              "2098"
            ]
          },
          "metadata": {},
          "execution_count": 49
        }
      ]
    },
    {
      "cell_type": "code",
      "source": [
        "type(js_index_in_img[0])"
      ],
      "metadata": {
        "colab": {
          "base_uri": "https://localhost:8080/"
        },
        "id": "m5Vst9KCcL8E",
        "outputId": "4a034d2b-49ac-45db-9597-77c9c5e185b5"
      },
      "execution_count": null,
      "outputs": [
        {
          "output_type": "execute_result",
          "data": {
            "text/plain": [
              "int"
            ]
          },
          "metadata": {},
          "execution_count": 50
        }
      ]
    },
    {
      "cell_type": "markdown",
      "source": [
        "# 라벨링 파일 저장할 폴더로 경로 이동"
      ],
      "metadata": {
        "id": "x2cQyCZtfR5x"
      }
    },
    {
      "cell_type": "code",
      "source": [
        "%cd ../콘크리드_라벨링"
      ],
      "metadata": {
        "colab": {
          "base_uri": "https://localhost:8080/"
        },
        "id": "rp07EzOQfDho",
        "outputId": "d1386351-25d0-4414-a21c-4f2d0cbe023c"
      },
      "execution_count": null,
      "outputs": [
        {
          "output_type": "stream",
          "name": "stdout",
          "text": [
            "/content/drive/.shortcut-targets-by-id/1x9dqzQ3wqGKi02DVG-o0wpLtqF524nAw/틈직한_판정단/콘크리드_라벨링\n"
          ]
        }
      ]
    },
    {
      "cell_type": "markdown",
      "source": [
        "# bbox 값 변환하여 파일 저장"
      ],
      "metadata": {
        "id": "ZsvTW47ifZ8Z"
      }
    },
    {
      "cell_type": "code",
      "source": [
        "for i in js_index_in_img:\n",
        "  with open(name[i],\"w\") as f:\n",
        "    for j in range(len(json_data[i]['annotations'])):\n",
        "      f.write('0 '+str((2*json_data[i]['annotations'][j]['bbox'][0] + json_data[i]['annotations'][j]['bbox'][2])/2)+' '+\n",
        "              str((2*json_data[i]['annotations'][j]['bbox'][1] + json_data[i]['annotations'][j]['bbox'][-1])/2)+' '+\n",
        "              str(json_data[i]['annotations'][j]['bbox'][2])+' '+str(json_data[i]['annotations'][j]['bbox'][3]))\n",
        "      f.write('\\n')"
      ],
      "metadata": {
        "id": "_arSy9aZb0m8"
      },
      "execution_count": null,
      "outputs": []
    },
    {
      "cell_type": "code",
      "source": [
        "js_name = []\n",
        "for filename in glob('*.json'):\n",
        "  js_name.append(filename)\n",
        "\n",
        "len(js_name)"
      ],
      "metadata": {
        "colab": {
          "base_uri": "https://localhost:8080/"
        },
        "id": "75Rlac2qgry7",
        "outputId": "13f68685-c2c1-4b5b-a9ed-4d0561ed37c3"
      },
      "execution_count": null,
      "outputs": [
        {
          "output_type": "execute_result",
          "data": {
            "text/plain": [
              "2098"
            ]
          },
          "metadata": {},
          "execution_count": 60
        }
      ]
    }
  ],
  "metadata": {
    "colab": {
      "collapsed_sections": [],
      "name": "라벨링_값_변경 .ipynb",
      "provenance": []
    },
    "kernelspec": {
      "display_name": "Python 3",
      "name": "python3"
    },
    "language_info": {
      "name": "python"
    }
  },
  "nbformat": 4,
  "nbformat_minor": 0
}