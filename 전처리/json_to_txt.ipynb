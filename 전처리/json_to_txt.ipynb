{
  "nbformat": 4,
  "nbformat_minor": 0,
  "metadata": {
    "colab": {
      "name": "json_to_txt.ipynb",
      "provenance": []
    },
    "kernelspec": {
      "name": "python3",
      "display_name": "Python 3"
    },
    "language_info": {
      "name": "python"
    }
  },
  "cells": [
    {
      "cell_type": "markdown",
      "source": [
        "# 경로 이동"
      ],
      "metadata": {
        "id": "oqvK4-zMmQNM"
      }
    },
    {
      "cell_type": "code",
      "execution_count": null,
      "metadata": {
        "colab": {
          "base_uri": "https://localhost:8080/"
        },
        "id": "2YmWrKNIS6tl",
        "outputId": "b7004599-01a0-4f3b-861f-c986a12403ba"
      },
      "outputs": [
        {
          "output_type": "stream",
          "name": "stdout",
          "text": [
            "\u001b[0m\u001b[01;34mdrive\u001b[0m/  \u001b[01;34msample_data\u001b[0m/\n"
          ]
        }
      ],
      "source": [
        "ls"
      ]
    },
    {
      "cell_type": "code",
      "source": [
        "%cd drive/MyDrive/Colab Notebooks/광주 인공지능 사관학교/이게 머선러닝이조/틈직한 판정단 자료/데이터/틈직한 판정단/data/label"
      ],
      "metadata": {
        "colab": {
          "base_uri": "https://localhost:8080/"
        },
        "id": "737KgUU3TScu",
        "outputId": "c6b4288b-593f-4cd2-da2e-d2c99bf48693"
      },
      "execution_count": null,
      "outputs": [
        {
          "output_type": "stream",
          "name": "stdout",
          "text": [
            "/content/drive/.shortcut-targets-by-id/1x9dqzQ3wqGKi02DVG-o0wpLtqF524nAw/틈직한_판정단/data/label\n"
          ]
        }
      ]
    },
    {
      "cell_type": "markdown",
      "source": [
        "# json 파일 이름 저장"
      ],
      "metadata": {
        "id": "qw5nNgy8mU_6"
      }
    },
    {
      "cell_type": "code",
      "source": [
        "from glob import glob \n",
        "name = []\n",
        "for filename in glob('*.json'):\n",
        "  name.append(filename)\n",
        "\n",
        "name"
      ],
      "metadata": {
        "id": "f6KkS_JdUFW-"
      },
      "execution_count": null,
      "outputs": []
    },
    {
      "cell_type": "code",
      "source": [
        "len(name)"
      ],
      "metadata": {
        "colab": {
          "base_uri": "https://localhost:8080/"
        },
        "id": "1Wx48I1sUNGG",
        "outputId": "0c048a91-8cac-4aa1-8b34-66a65184c494"
      },
      "execution_count": null,
      "outputs": [
        {
          "output_type": "execute_result",
          "data": {
            "text/plain": [
              "300"
            ]
          },
          "metadata": {},
          "execution_count": 6
        }
      ]
    },
    {
      "cell_type": "markdown",
      "source": [
        "# json 파일 내용 저장"
      ],
      "metadata": {
        "id": "ogACsZV_mb3C"
      }
    },
    {
      "cell_type": "code",
      "source": [
        "json_data = []\n",
        "for i in name:\n",
        "  with open(i, 'r') as f:\n",
        "    jdata = f.read()\n",
        "  json_data.append(json.dumps(jdata)[1:-1])"
      ],
      "metadata": {
        "id": "0Ns9-d9WVG2Q"
      },
      "execution_count": null,
      "outputs": []
    },
    {
      "cell_type": "code",
      "source": [
        "len(json_data)"
      ],
      "metadata": {
        "colab": {
          "base_uri": "https://localhost:8080/"
        },
        "id": "95dlW4bRh9tD",
        "outputId": "77a4b47a-1a7b-48b8-bc3e-3dc3f3f69e0a"
      },
      "execution_count": null,
      "outputs": [
        {
          "output_type": "execute_result",
          "data": {
            "text/plain": [
              "300"
            ]
          },
          "metadata": {},
          "execution_count": 35
        }
      ]
    },
    {
      "cell_type": "markdown",
      "source": [
        "# txt로 변환한 파일 저장"
      ],
      "metadata": {
        "id": "L3dpdVYBm2My"
      }
    },
    {
      "cell_type": "code",
      "source": [
        "%cd ../txt_label"
      ],
      "metadata": {
        "colab": {
          "base_uri": "https://localhost:8080/"
        },
        "id": "VWcovdAqjK9B",
        "outputId": "ba1000c1-42f2-42c8-a329-610721747ce8"
      },
      "execution_count": null,
      "outputs": [
        {
          "output_type": "stream",
          "name": "stdout",
          "text": [
            "/content/drive/.shortcut-targets-by-id/1x9dqzQ3wqGKi02DVG-o0wpLtqF524nAw/틈직한_판정단/data/txt_label\n"
          ]
        }
      ]
    },
    {
      "cell_type": "code",
      "source": [
        "for i in range(len(name)):\n",
        "  with open(name[i][:-4]+'txt', 'w') as f:\n",
        "    for j in json_data[i][:-2].split('\\\\n'):\n",
        "      f.write(j)\n",
        "      f.write('\\n')"
      ],
      "metadata": {
        "id": "uWe4o2SjjWj0"
      },
      "execution_count": null,
      "outputs": []
    },
    {
      "cell_type": "markdown",
      "source": [
        "# txt 파일 개수 확인"
      ],
      "metadata": {
        "id": "YSUYb1tKnBz8"
      }
    },
    {
      "cell_type": "code",
      "source": [
        "ls"
      ],
      "metadata": {
        "id": "xbRQZt4RkFcg"
      },
      "execution_count": null,
      "outputs": []
    },
    {
      "cell_type": "code",
      "source": [
        "txt_name = []\n",
        "for filename in glob('*.txt'):\n",
        "  txt_name.append(filename)\n",
        "\n",
        "len(txt_name)"
      ],
      "metadata": {
        "colab": {
          "base_uri": "https://localhost:8080/"
        },
        "id": "3eFYrI5Plge2",
        "outputId": "7185d0d0-f235-48a6-ae60-1ebfae42c311"
      },
      "execution_count": null,
      "outputs": [
        {
          "output_type": "execute_result",
          "data": {
            "text/plain": [
              "300"
            ]
          },
          "metadata": {},
          "execution_count": 51
        }
      ]
    }
  ]
}